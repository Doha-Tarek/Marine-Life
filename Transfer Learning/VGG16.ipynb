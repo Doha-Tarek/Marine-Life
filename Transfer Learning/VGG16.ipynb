{
 "cells": [
  {
   "cell_type": "code",
   "execution_count": 1,
   "metadata": {
    "id": "uA2DXQ7Ltcfv"
   },
   "outputs": [],
   "source": [
    "from keras.layers import Input, Lambda, Dense, Flatten\n",
    "from keras.models import Model\n",
    "from keras.applications.vgg16 import VGG16\n",
    "from keras.applications.vgg16 import preprocess_input\n",
    "from keras.preprocessing import image\n",
    "from keras.preprocessing.image import ImageDataGenerator\n",
    "from keras.models import Sequential\n",
    "import numpy as np\n",
    "from glob import glob\n",
    "import matplotlib.pyplot as plt\n",
    "\n",
    "import warnings\n",
    "warnings.filterwarnings(\"ignore\", category=FutureWarning)"
   ]
  },
  {
   "cell_type": "code",
   "execution_count": 2,
   "metadata": {
    "id": "6oEAO0FEtoE_"
   },
   "outputs": [],
   "source": [
    "IMAGE_SIZE = [224, 224]"
   ]
  },
  {
   "cell_type": "code",
   "execution_count": 3,
   "metadata": {
    "colab": {
     "base_uri": "https://localhost:8080/"
    },
    "id": "6vC7G2votoIR",
    "outputId": "9f5fdfc8-abc6-4289-d9ec-10f0139bea6a"
   },
   "outputs": [
    {
     "name": "stdout",
     "output_type": "stream",
     "text": [
      "Mounted at /content/drive\n"
     ]
    }
   ],
   "source": [
    "# Conneting to google drive\n",
    "from google.colab import drive\n",
    "drive.mount('/content/drive')"
   ]
  },
  {
   "cell_type": "code",
   "execution_count": 4,
   "metadata": {
    "id": "bOStBTzGt1nY"
   },
   "outputs": [],
   "source": [
    "#Give dataset path\n",
    "train_path = '/content/drive/MyDrive/Underwater/dataset/Train'\n",
    "validation_path = '/content/drive/MyDrive/Underwater/dataset/Validation'"
   ]
  },
  {
   "cell_type": "code",
   "execution_count": 5,
   "metadata": {
    "colab": {
     "base_uri": "https://localhost:8080/"
    },
    "id": "DrBgbUjzt1qY",
    "outputId": "537a3865-a153-40f8-9d07-f2f21456a21f"
   },
   "outputs": [
    {
     "name": "stdout",
     "output_type": "stream",
     "text": [
      "Downloading data from https://storage.googleapis.com/tensorflow/keras-applications/vgg16/vgg16_weights_tf_dim_ordering_tf_kernels_notop.h5\n",
      "58889256/58889256 [==============================] - 0s 0us/step\n"
     ]
    }
   ],
   "source": [
    "vgg = VGG16(input_shape=IMAGE_SIZE + [3], weights='imagenet', include_top=False)"
   ]
  },
  {
   "cell_type": "code",
   "execution_count": 6,
   "metadata": {
    "colab": {
     "base_uri": "https://localhost:8080/"
    },
    "id": "cZCaAyiFt1tY",
    "outputId": "0a1990e4-e45d-4bcf-8bf1-5cc362a91afd"
   },
   "outputs": [
    {
     "data": {
      "text/plain": [
       "<KerasTensor: shape=(None, 224, 224, 3) dtype=float32 (created by layer 'input_1')>"
      ]
     },
     "execution_count": 6,
     "metadata": {},
     "output_type": "execute_result"
    }
   ],
   "source": [
    "# Input shape\n",
    "vgg.input"
   ]
  },
  {
   "cell_type": "code",
   "execution_count": 7,
   "metadata": {
    "id": "9DV8jATCucyL"
   },
   "outputs": [],
   "source": [
    "# Freezing\n",
    "for layer in vgg.layers:\n",
    "  layer.trainable = False"
   ]
  },
  {
   "cell_type": "code",
   "execution_count": 8,
   "metadata": {
    "colab": {
     "base_uri": "https://localhost:8080/"
    },
    "id": "XW1Vwd2Fuc1g",
    "outputId": "08b07cdb-abf2-4a21-887d-98a6017e336a"
   },
   "outputs": [
    {
     "name": "stdout",
     "output_type": "stream",
     "text": [
      "3\n"
     ]
    }
   ],
   "source": [
    "# Number of classes\n",
    "folders = glob('/content/drive/MyDrive/Underwater/dataset/Train/*')\n",
    "print(len(folders))"
   ]
  },
  {
   "cell_type": "code",
   "execution_count": 9,
   "metadata": {
    "colab": {
     "base_uri": "https://localhost:8080/"
    },
    "id": "Q0_58tAnuc4W",
    "outputId": "a84dc6c2-9d8d-400b-dd24-c2eeb4afeebc"
   },
   "outputs": [
    {
     "name": "stdout",
     "output_type": "stream",
     "text": [
      "Model: \"model\"\n",
      "_________________________________________________________________\n",
      " Layer (type)                Output Shape              Param #   \n",
      "=================================================================\n",
      " input_1 (InputLayer)        [(None, 224, 224, 3)]     0         \n",
      "                                                                 \n",
      " block1_conv1 (Conv2D)       (None, 224, 224, 64)      1792      \n",
      "                                                                 \n",
      " block1_conv2 (Conv2D)       (None, 224, 224, 64)      36928     \n",
      "                                                                 \n",
      " block1_pool (MaxPooling2D)  (None, 112, 112, 64)      0         \n",
      "                                                                 \n",
      " block2_conv1 (Conv2D)       (None, 112, 112, 128)     73856     \n",
      "                                                                 \n",
      " block2_conv2 (Conv2D)       (None, 112, 112, 128)     147584    \n",
      "                                                                 \n",
      " block2_pool (MaxPooling2D)  (None, 56, 56, 128)       0         \n",
      "                                                                 \n",
      " block3_conv1 (Conv2D)       (None, 56, 56, 256)       295168    \n",
      "                                                                 \n",
      " block3_conv2 (Conv2D)       (None, 56, 56, 256)       590080    \n",
      "                                                                 \n",
      " block3_conv3 (Conv2D)       (None, 56, 56, 256)       590080    \n",
      "                                                                 \n",
      " block3_pool (MaxPooling2D)  (None, 28, 28, 256)       0         \n",
      "                                                                 \n",
      " block4_conv1 (Conv2D)       (None, 28, 28, 512)       1180160   \n",
      "                                                                 \n",
      " block4_conv2 (Conv2D)       (None, 28, 28, 512)       2359808   \n",
      "                                                                 \n",
      " block4_conv3 (Conv2D)       (None, 28, 28, 512)       2359808   \n",
      "                                                                 \n",
      " block4_pool (MaxPooling2D)  (None, 14, 14, 512)       0         \n",
      "                                                                 \n",
      " block5_conv1 (Conv2D)       (None, 14, 14, 512)       2359808   \n",
      "                                                                 \n",
      " block5_conv2 (Conv2D)       (None, 14, 14, 512)       2359808   \n",
      "                                                                 \n",
      " block5_conv3 (Conv2D)       (None, 14, 14, 512)       2359808   \n",
      "                                                                 \n",
      " block5_pool (MaxPooling2D)  (None, 7, 7, 512)         0         \n",
      "                                                                 \n",
      " flatten (Flatten)           (None, 25088)             0         \n",
      "                                                                 \n",
      " dense (Dense)               (None, 3)                 75267     \n",
      "                                                                 \n",
      "=================================================================\n",
      "Total params: 14789955 (56.42 MB)\n",
      "Trainable params: 75267 (294.01 KB)\n",
      "Non-trainable params: 14714688 (56.13 MB)\n",
      "_________________________________________________________________\n"
     ]
    }
   ],
   "source": [
    "# Creating a custom neural network model using a pre-trained VGG16 base\n",
    "\n",
    "# Flatten the output from the VGG16 model to a 1D array\n",
    "x = Flatten()(vgg.output)\n",
    "# Add a Dense layer for classification with softmax activation\n",
    "# The number of units in the Dense layer is set to the number of classes (folders)\n",
    "prediction = Dense(len(folders), activation='softmax')(x)\n",
    "# Create the final model by specifying input and output layers\n",
    "model = Model(inputs=vgg.input, outputs=prediction)\n",
    "# Display a summary of the model architecture\n",
    "model.summary()"
   ]
  },
  {
   "cell_type": "code",
   "execution_count": 10,
   "metadata": {
    "id": "bhBSW74auc67"
   },
   "outputs": [],
   "source": [
    "from keras import optimizers\n",
    "\n",
    "\n",
    "adam = optimizers.Adam()\n",
    "model.compile(loss='categorical_crossentropy',\n",
    "              optimizer=adam,\n",
    "              metrics=['accuracy'])"
   ]
  },
  {
   "cell_type": "code",
   "execution_count": 11,
   "metadata": {
    "id": "NM4RZfpvuc9i"
   },
   "outputs": [],
   "source": [
    "# Training Augmentation\n",
    "train_datagen = ImageDataGenerator(\n",
    "    preprocessing_function=preprocess_input,\n",
    "    rotation_range=40,\n",
    "    width_shift_range=0.2,\n",
    "    height_shift_range=0.2,\n",
    "    shear_range=0.2,\n",
    "    zoom_range=0.2,\n",
    "    horizontal_flip=True,\n",
    "    fill_mode='nearest')\n"
   ]
  },
  {
   "cell_type": "code",
   "execution_count": 12,
   "metadata": {
    "id": "F4ttJCDat1wV"
   },
   "outputs": [],
   "source": [
    "validation_datagen = ImageDataGenerator(\n",
    "    preprocessing_function=preprocess_input,\n",
    "    rotation_range=40,\n",
    "    width_shift_range=0.2,\n",
    "    height_shift_range=0.2,\n",
    "    shear_range=0.2,\n",
    "    zoom_range=0.2,\n",
    "    horizontal_flip=True,\n",
    "    fill_mode='nearest')"
   ]
  },
  {
   "cell_type": "code",
   "execution_count": 13,
   "metadata": {
    "colab": {
     "base_uri": "https://localhost:8080/"
    },
    "id": "-14YckQutoMD",
    "outputId": "6e959e94-4190-4d90-c69b-d26228b436df"
   },
   "outputs": [
    {
     "name": "stdout",
     "output_type": "stream",
     "text": [
      "Found 2594 images belonging to 3 classes.\n"
     ]
    }
   ],
   "source": [
    "train_set = train_datagen.flow_from_directory(train_path,\n",
    "                                                 target_size = (224, 224),\n",
    "                                                 batch_size = 32,\n",
    "                                                 class_mode = 'categorical')"
   ]
  },
  {
   "cell_type": "code",
   "execution_count": 14,
   "metadata": {
    "colab": {
     "base_uri": "https://localhost:8080/"
    },
    "id": "j-uwjzZ-wSFf",
    "outputId": "ce1f8744-5c3a-420c-89f7-36e3caaaecec"
   },
   "outputs": [
    {
     "name": "stdout",
     "output_type": "stream",
     "text": [
      "Found 583 images belonging to 3 classes.\n"
     ]
    }
   ],
   "source": [
    "validation_set = validation_datagen.flow_from_directory(validation_path,\n",
    "                                            target_size = (224, 224),\n",
    "                                            batch_size = 32,\n",
    "                                            class_mode = 'categorical')\n"
   ]
  },
  {
   "cell_type": "code",
   "execution_count": 15,
   "metadata": {
    "colab": {
     "base_uri": "https://localhost:8080/"
    },
    "id": "5Tmm3qH6wSNF",
    "outputId": "33b75253-a002-46df-8414-47605a799891"
   },
   "outputs": [
    {
     "name": "stderr",
     "output_type": "stream",
     "text": [
      "<ipython-input-15-6c1cf058dad4>:11: UserWarning: `Model.fit_generator` is deprecated and will be removed in a future version. Please use `Model.fit`, which supports generators.\n",
      "  model_history=model.fit_generator(\n"
     ]
    },
    {
     "name": "stdout",
     "output_type": "stream",
     "text": [
      "Epoch 1/15\n"
     ]
    },
    {
     "name": "stderr",
     "output_type": "stream",
     "text": [
      "WARNING:tensorflow:Your input ran out of data; interrupting training. Make sure that your dataset or generator can generate at least `steps_per_epoch * epochs` batches (in this case, 32 batches). You may need to use the repeat() function when building your dataset.\n"
     ]
    },
    {
     "name": "stdout",
     "output_type": "stream",
     "text": [
      "\n",
      "Epoch 1: accuracy improved from -inf to 0.55000, saving model to VGG16_Training.h5\n",
      "5/5 - 202s - loss: 8.5353 - accuracy: 0.5500 - val_loss: 9.3765 - val_accuracy: 0.7136 - 202s/epoch - 40s/step\n",
      "Epoch 2/15\n"
     ]
    },
    {
     "name": "stderr",
     "output_type": "stream",
     "text": [
      "/usr/local/lib/python3.10/dist-packages/keras/src/engine/training.py:3103: UserWarning: You are saving your model as an HDF5 file via `model.save()`. This file format is considered legacy. We recommend using instead the native Keras format, e.g. `model.save('my_model.keras')`.\n",
      "  saving_api.save_model(\n"
     ]
    },
    {
     "name": "stdout",
     "output_type": "stream",
     "text": [
      "\n",
      "Epoch 2: accuracy improved from 0.55000 to 0.77500, saving model to VGG16_Training.h5\n",
      "5/5 - 27s - loss: 7.2901 - accuracy: 0.7750 - 27s/epoch - 5s/step\n",
      "Epoch 3/15\n",
      "\n",
      "Epoch 3: accuracy improved from 0.77500 to 0.89375, saving model to VGG16_Training.h5\n",
      "5/5 - 25s - loss: 2.4143 - accuracy: 0.8938 - 25s/epoch - 5s/step\n",
      "Epoch 4/15\n",
      "\n",
      "Epoch 4: accuracy improved from 0.89375 to 0.90000, saving model to VGG16_Training.h5\n",
      "5/5 - 23s - loss: 3.6104 - accuracy: 0.9000 - 23s/epoch - 5s/step\n",
      "Epoch 5/15\n",
      "\n",
      "Epoch 5: accuracy improved from 0.90000 to 0.92500, saving model to VGG16_Training.h5\n",
      "5/5 - 23s - loss: 2.0880 - accuracy: 0.9250 - 23s/epoch - 5s/step\n",
      "Epoch 6/15\n",
      "\n",
      "Epoch 6: accuracy did not improve from 0.92500\n",
      "5/5 - 23s - loss: 1.9098 - accuracy: 0.9187 - 23s/epoch - 5s/step\n",
      "Epoch 7/15\n",
      "\n",
      "Epoch 7: accuracy did not improve from 0.92500\n",
      "5/5 - 19s - loss: 2.2204 - accuracy: 0.8813 - 19s/epoch - 4s/step\n",
      "Epoch 8/15\n",
      "\n",
      "Epoch 8: accuracy improved from 0.92500 to 0.93750, saving model to VGG16_Training.h5\n",
      "5/5 - 18s - loss: 1.9802 - accuracy: 0.9375 - 18s/epoch - 4s/step\n",
      "Epoch 9/15\n",
      "\n",
      "Epoch 9: accuracy did not improve from 0.93750\n",
      "5/5 - 21s - loss: 2.2310 - accuracy: 0.9125 - 21s/epoch - 4s/step\n",
      "Epoch 10/15\n",
      "\n",
      "Epoch 10: accuracy did not improve from 0.93750\n",
      "5/5 - 17s - loss: 2.3992 - accuracy: 0.9312 - 17s/epoch - 3s/step\n",
      "Epoch 11/15\n",
      "\n",
      "Epoch 11: accuracy did not improve from 0.93750\n",
      "5/5 - 17s - loss: 1.6470 - accuracy: 0.9187 - 17s/epoch - 3s/step\n",
      "Epoch 12/15\n",
      "\n",
      "Epoch 12: accuracy did not improve from 0.93750\n",
      "5/5 - 13s - loss: 1.7228 - accuracy: 0.9312 - 13s/epoch - 3s/step\n",
      "Epoch 13/15\n",
      "\n",
      "Epoch 13: accuracy improved from 0.93750 to 0.96875, saving model to VGG16_Training.h5\n",
      "5/5 - 14s - loss: 1.0880 - accuracy: 0.9688 - 14s/epoch - 3s/step\n",
      "Epoch 14/15\n",
      "\n",
      "Epoch 14: accuracy did not improve from 0.96875\n",
      "5/5 - 13s - loss: 0.8407 - accuracy: 0.9500 - 13s/epoch - 3s/step\n",
      "Epoch 15/15\n",
      "\n",
      "Epoch 15: accuracy did not improve from 0.96875\n",
      "5/5 - 12s - loss: 2.2725 - accuracy: 0.8923 - 12s/epoch - 2s/step\n",
      "Training completed in time:  0:09:13.702775\n"
     ]
    }
   ],
   "source": [
    "from datetime import datetime\n",
    "from keras.callbacks import ModelCheckpoint\n",
    "\n",
    "\n",
    "\n",
    "checkpoint = ModelCheckpoint(filepath='VGG16_Training.h5', monitor='accuracy', verbose=2, save_best_only=True, mode='max')\n",
    "callbacks = [checkpoint]\n",
    "\n",
    "start = datetime.now()\n",
    "\n",
    "model_history=model.fit_generator(\n",
    "  train_set,\n",
    "  validation_data=validation_set,\n",
    "  epochs=15,\n",
    "  steps_per_epoch=5,\n",
    "  validation_steps=32,\n",
    "    callbacks=callbacks ,verbose=2)\n",
    "\n",
    "\n",
    "duration = datetime.now() - start\n",
    "print(\"Training completed in time: \", duration)"
   ]
  }
 ],
 "metadata": {
  "accelerator": "GPU",
  "colab": {
   "gpuType": "T4",
   "provenance": []
  },
  "kernelspec": {
   "display_name": "Python 3 (ipykernel)",
   "language": "python",
   "name": "python3"
  },
  "language_info": {
   "codemirror_mode": {
    "name": "ipython",
    "version": 3
   },
   "file_extension": ".py",
   "mimetype": "text/x-python",
   "name": "python",
   "nbconvert_exporter": "python",
   "pygments_lexer": "ipython3",
   "version": "3.12.1"
  }
 },
 "nbformat": 4,
 "nbformat_minor": 4
}
